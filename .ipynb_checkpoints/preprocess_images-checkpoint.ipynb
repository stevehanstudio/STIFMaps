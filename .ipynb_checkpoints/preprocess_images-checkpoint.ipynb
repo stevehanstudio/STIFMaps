{
 "cells": [
  {
   "cell_type": "code",
   "execution_count": 1,
   "id": "9b9d1b66-5e1a-4e22-8d9a-940dde4a809c",
   "metadata": {},
   "outputs": [],
   "source": [
    "import tifffile\n",
    "import os\n",
    "import numpy as np\n",
    "\n",
    "dapi = '/home/steve/Projects/WeaverLab/STIFMaps/IPMN_images/27620_C0_full.tif'\n",
    "collagen = '/home/steve/Projects/WeaverLab/STIFMaps/IPMN_images/27620_C1_full.tif'\n",
    "output_dir = \"/home/steve/Projects/WeaverLab/STIFMaps/IPMN_images/normalized_tiled\""
   ]
  },
  {
   "cell_type": "code",
   "execution_count": 2,
   "id": "50e084ba-b32b-4b80-a954-4b1dc2399146",
   "metadata": {},
   "outputs": [
    {
     "name": "stdout",
     "output_type": "stream",
     "text": [
      "File: 27620_C0_full.tif, Dimensions: 25922x31398\n",
      "File: 27620_C1_full.tif, Dimensions: 25922x31398\n"
     ]
    }
   ],
   "source": [
    "def check_image_dimensions(image_path):\n",
    "    try:\n",
    "        # Open the image using tifffile\n",
    "        with tifffile.TiffFile(image_path) as tif:\n",
    "            width, height = tif.pages[0].shape[:2]\n",
    "            print(f\"File: {os.path.basename(image_path)}, Dimensions: {width}x{height}\")\n",
    "    except Exception as e:\n",
    "        print(f\"Error opening {image_path}: {e}\")\n",
    "\n",
    "# Check dimensions of the original images\n",
    "check_image_dimensions(dapi)\n",
    "check_image_dimensions(collagen)"
   ]
  },
  {
   "cell_type": "code",
   "execution_count": 4,
   "id": "1d459659-dea5-4c19-8df0-ad3dec2ae4af",
   "metadata": {},
   "outputs": [
    {
     "name": "stdout",
     "output_type": "stream",
     "text": [
      "Normalized image saved as /home/steve/Projects/WeaverLab/STIFMaps/IPMN_images/normalized_tiled/27620_C0_full_normalized.tif\n",
      "Normalized image saved as /home/steve/Projects/WeaverLab/STIFMaps/IPMN_images/normalized_tiled/27620_C1_full_normalized.tif\n"
     ]
    }
   ],
   "source": [
    "# Function to normalize an image\n",
    "def normalize_image(image, min_val, max_val):\n",
    "    \"\"\"Normalize the image to the range [0, 255] using global min and max values.\"\"\"\n",
    "    normalized_image = ((image - min_val) / (max_val - min_val) * 255).astype(np.uint8)\n",
    "    return normalized_image\n",
    "\n",
    "# Generate tiled images\n",
    "def gen_tile_images(input_path, output_dir, tile_size=5003):\n",
    "    # Open the large image using tifffile\n",
    "    tif = tifffile.TiffFile(input_path)\n",
    "    image = tif.asarray()\n",
    "\n",
    "    # Plot histogram of the original image\n",
    "    plot_histogram(image, f\"Histogram of {os.path.basename(input_path)}\")\n",
    "    \n",
    "    # Calculate global min and max values for normalization\n",
    "    global_min = np.min(image)\n",
    "    global_max = np.max(image)\n",
    "    print(f\"Global Min: {global_min}, Global Max: {global_max}\")\n",
    "\n",
    "    # Normalize the image using global min and max\n",
    "    normalized_image = normalize_image(image, global_min, global_max)\n",
    "\n",
    "    # Plot histogram of the normalized image\n",
    "    plot_histogram(normalized_image, f\"Histogram of Normalized {os.path.basename(input_path)}\")\n",
    "    \n",
    "    # Save a copy of the normalized image\n",
    "    base_name = os.path.splitext(os.path.basename(input_path))[0]\n",
    "    normalized_image_path = os.path.join(output_dir, f\"{base_name}_normalized.tif\")\n",
    "    tifffile.imwrite(normalized_image_path, normalized_image)\n",
    "    print(f\"Normalized image saved as {normalized_image_path}\")\n",
    "\n",
    "    # Create the output directory if it doesn't exist\n",
    "    if not os.path.exists(output_dir):\n",
    "        os.makedirs(output_dir)\n",
    "\n",
    "    # Get the dimensions of the image\n",
    "    height, width = normalized_image.shape[:2]\n",
    "\n",
    "    # Calculate the number of tiles\n",
    "    num_tiles_x = (width + tile_size - 1) // tile_size\n",
    "    num_tiles_y = (height + tile_size - 1) // tile_size\n",
    "\n",
    "    # Iterate over the image and crop tiles\n",
    "    for i in range(num_tiles_y):\n",
    "        for j in range(num_tiles_x):\n",
    "            # Calculate the coordinates for the current tile\n",
    "            left = j * tile_size\n",
    "            upper = i * tile_size\n",
    "            right = min(left + tile_size, width)\n",
    "            lower = min(upper + tile_size, height)\n",
    "\n",
    "            # Crop the tile\n",
    "            tile = normalized_image[upper:lower, left:right]\n",
    "\n",
    "            # Create a new image with the desired size\n",
    "            new_tile = np.zeros((tile_size, tile_size), dtype=np.uint8)\n",
    "            new_tile[:tile.shape[0], :tile.shape[1]] = tile\n",
    "\n",
    "            # Save the tile using tifffile\n",
    "            tile_filename = os.path.join(output_dir, f\"{base_name}_tile_{i}_{j}.tif\")\n",
    "            tifffile.imwrite(tile_filename, new_tile)\n",
    "\n",
    "gen_tile_images(dapi, output_dir)\n",
    "gen_tile_images(collagen, output_dir)"
   ]
  },
  {
   "cell_type": "code",
   "execution_count": 4,
   "id": "94c410f3-b9a1-45dc-924c-a876bb7683c6",
   "metadata": {},
   "outputs": [
    {
     "name": "stdout",
     "output_type": "stream",
     "text": [
      "Error opening /home/steve/Projects/WeaverLab/STIFMaps/IPMN_images/tiled_new/27620_C0_full_tile_0_0.tif: [Errno 2] No such file or directory: '/home/steve/Projects/WeaverLab/STIFMaps/IPMN_images/tiled_new/27620_C0_full_tile_0_0.tif'\n"
     ]
    }
   ],
   "source": [
    "# check_image_dimensions(\"/home/steve/Projects/WeaverLab/STIFMaps/IPMN_images/tiled/27620_C0_full_tile_0_0.tif\")\n",
    "check_image_dimensions(\"/home/steve/Projects/WeaverLab/STIFMaps/IPMN_images/normalized_tiled/27620_C0_full_tile_0_0.tif\")"
   ]
  },
  {
   "cell_type": "code",
   "execution_count": null,
   "id": "6b5153cf-28e0-4372-9211-01cc510e77f0",
   "metadata": {},
   "outputs": [],
   "source": []
  }
 ],
 "metadata": {
  "kernelspec": {
   "display_name": "Python 3 (ipykernel)",
   "language": "python",
   "name": "python3"
  },
  "language_info": {
   "codemirror_mode": {
    "name": "ipython",
    "version": 3
   },
   "file_extension": ".py",
   "mimetype": "text/x-python",
   "name": "python",
   "nbconvert_exporter": "python",
   "pygments_lexer": "ipython3",
   "version": "3.10.12"
  }
 },
 "nbformat": 4,
 "nbformat_minor": 5
}
