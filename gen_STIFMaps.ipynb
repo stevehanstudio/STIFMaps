{
 "cells": [
  {
   "cell_type": "code",
   "execution_count": 1,
   "id": "5bb47cc8-9c18-4659-a7cf-2fe056d6be18",
   "metadata": {},
   "outputs": [],
   "source": [
    "# Import from the globals_and_helpers file\n",
    "from globals_and_helpers import (\n",
    "    PROJECT_DIR,\n",
    "    MODELS_DIR,\n",
    "    ORIG_IMAGE_DIR,\n",
    "    TEMP_OUTPUTS_DIR,\n",
    "    FINAL_OUTPUTS_DIR,\n",
    "    TILE_SIZE,\n",
    "    BASE_NAMES,\n",
    "    normalize_image,\n",
    "    plot_histogram,\n",
    "    get_dapi_and_collagen_paths,\n",
    "    convert_seconds_to_hms,\n",
    "    get_base_name,\n",
    "    check_image_dimensions,\n",
    "    gen_STIFMap_tile_path,\n",
    "    save_stiffness_colormap,\n",
    "    stitch_images,\n",
    ")"
   ]
  },
  {
   "cell_type": "code",
   "execution_count": 2,
   "id": "fb274017-8c63-4f1d-a986-b80718896273",
   "metadata": {},
   "outputs": [
    {
     "name": "stdout",
     "output_type": "stream",
     "text": [
      "Step size is 100 pixels\n",
      "Side length for a square is 560 pixels\n"
     ]
    }
   ],
   "source": [
    "from STIFMaps import STIFMap_generation\n",
    "from STIFMaps.misc import get_step\n",
    "\n",
    "import os\n",
    "import re\n",
    "import numpy as np\n",
    "import pandas as pd\n",
    "from skimage import io\n",
    "import matplotlib.pyplot as plt\n",
    "from scipy.stats import spearmanr\n",
    "from scipy import interpolate\n",
    "from PIL import Image\n",
    "import tifffile\n",
    "import time\n",
    "\n",
    "# STIFMap models\n",
    "models = [\n",
    "    os.path.join(MODELS_DIR, 'iteration_1171.pt'),\n",
    "    os.path.join(MODELS_DIR, 'iteration_1000.pt'),\n",
    "    os.path.join(MODELS_DIR, 'iteration_1043.pt'),\n",
    "    os.path.join(MODELS_DIR, 'iteration_1161.pt'),\n",
    "    os.path.join(MODELS_DIR, 'iteration_1180.pt')\n",
    "]\n",
    "\n",
    "# Parameters\n",
    "STIFMap_SCALE_FACTOR = 0.4\n",
    "# STIFMap_SCALE_FACTOR = 2.712\n",
    "STIFMap_STEP = get_step(40, STIFMap_SCALE_FACTOR)\n",
    "STIFMap_SQUARE_SIDE = get_step(224, STIFMap_SCALE_FACTOR)\n",
    "STIFMap_BATCH_SIZE = 100\n",
    "\n",
    "print('Step size is ' + str(STIFMap_STEP) + ' pixels')\n",
    "print('Side length for a square is ' + str(STIFMap_SQUARE_SIDE) + ' pixels')"
   ]
  },
  {
   "cell_type": "code",
   "execution_count": 3,
   "id": "04e3b670-b826-4295-b588-99ce53c64fd4",
   "metadata": {},
   "outputs": [],
   "source": [
    "# Function to generate and save the STIFMap\n",
    "def gen_STIFMap_tile(dapi_path, collagen_path, name, step, models, batch_size, square_side, check_existing=True):\n",
    "    output_path = gen_STIFMap_tile_path(dapi_path)\n",
    "    \n",
    "    # Check if the tile has already been processed\n",
    "    if check_existing and os.path.exists(output_path):\n",
    "        print(f\"Skipping already processed tile: {dapi_path} and {collagen_path}\")\n",
    "        return\n",
    "\n",
    "    start_time = time.perf_counter()\n",
    "\n",
    "    z_out = STIFMap_generation.generate_STIFMap(\n",
    "        dapi=dapi_path, \n",
    "        collagen=collagen_path, \n",
    "        name=name, \n",
    "        step=step, \n",
    "        models=models,\n",
    "        mask=False, \n",
    "        batch_size=batch_size, \n",
    "        square_side=square_side,\n",
    "        save_dir=False\n",
    "    )\n",
    "\n",
    "    end_time = time.perf_counter()\n",
    "    print(\"Elapsed time:\", convert_seconds_to_hms(end_time - start_time))\n",
    "\n",
    "    output_image = np.mean(z_out, axis=0)\n",
    "\n",
    "    global_min = np.min(output_image)\n",
    "    global_max = np.max(output_image)\n",
    "    output_image_normalized = (output_image - global_min) / (global_max - global_min)\n",
    "\n",
    "    # Ensure the output directory exists\n",
    "    os.makedirs(os.path.dirname(output_path), exist_ok=True)\n",
    "\n",
    "    plt.imsave(output_path, output_image_normalized, cmap=\"viridis\")\n",
    "    print(f\"Saved image: {output_path}\")\n",
    "\n",
    "    # Save the raw stiffness values as a NumPy array\n",
    "    stiffness_values_path = output_path.replace(\".png\", \".npy\")\n",
    "    np.save(stiffness_values_path, output_image)\n",
    "    print(f\"Saved stiffness values: {stiffness_values_path}\")\n",
    "\n",
    "# Function to check if a tile has already been processed\n",
    "def is_tile_completed(output_path):\n",
    "    return os.path.exists(output_path)\n",
    "\n",
    "# dapi_path, collagen_path = get_dapi_and_collagen_paths(\n",
    "#     base_name=BASE_NAMES[0], orig_image_dir=ORIG_IMAGE_DIR\n",
    "# )\n",
    "# print(f\"dapi_path={dapi_path}, collagen_path={collagen_path}\")\n",
    "# gen_STIFMap_tile(\n",
    "#     # dapi_path=dapi_path,\n",
    "#     # collagen_path=collagen_path,\n",
    "#     dapi_path='/home/steve/Projects/WeaverLab/STIFMaps/temp_outputs/27620/IPMN_tiles/27620_C0_0_0.tif',\n",
    "#     collagen_path='/home/steve/Projects/WeaverLab/STIFMaps/temp_outputs/27620/IPMN_tiles/27620_C1_0_0.tif',\n",
    "#     name='test',\n",
    "#     step=STIFMap_STEP,\n",
    "#     models=models,\n",
    "#     batch_size=STIFMap_BATCH_SIZE,\n",
    "#     square_side=STIFMap_SQUARE_SIDE,\n",
    "#     check_existing=True  # Set to True to check if the file already exists\n",
    "# )"
   ]
  },
  {
   "cell_type": "code",
   "execution_count": null,
   "id": "607afa5a-0b7e-4be0-a23d-bad7a7d2b28b",
   "metadata": {},
   "outputs": [
    {
     "name": "stdout",
     "output_type": "stream",
     "text": [
      "Detected grid size: 6 rows x 9 columns\n",
      "Generating STIFMap for /home/steve/Projects/WeaverLab/STIFMaps/temp_outputs/1865/IPMN_tiles/1865_C0_0_0.tif, /home/steve/Projects/WeaverLab/STIFMaps/temp_outputs/1865/IPMN_tiles/1865_C1_0_0.tif\n",
      "Device is cpu\n"
     ]
    },
    {
     "name": "stderr",
     "output_type": "stream",
     "text": [
      "/home/steve/.local/lib/python3.10/site-packages/STIFMaps/STIFMap_generation.py:145: FutureWarning: `imshow` is deprecated since version 0.25 and will be removed in version 0.27. Please use `matplotlib`, `napari`, etc. to visualize images.\n",
      "  io.imshow(np.moveaxis(im, 0, -1))\n"
     ]
    },
    {
     "name": "stdout",
     "output_type": "stream",
     "text": [
      "Image shape is (3, 5003, 5003)\n",
      "Num squares in x direction is 45\n",
      "Num squares in y direction is 45\n",
      "Time taken to predict squares is 23.014177560806274\n",
      "Time taken to predict squares is 42.78710746765137\n",
      "Time taken to predict squares is 62.34855937957764\n",
      "Time taken to predict squares is 82.26913189888\n",
      "Time taken to predict squares is 102.34050369262695\n",
      "Total time taken is 103.402911901474\n",
      "Elapsed time: 1 minutes, 43.4 seconds\n",
      "Saved image: /home/steve/Projects/WeaverLab/STIFMaps/temp_outputs/1865/STIFMap_tiles/1865_0_0.png\n",
      "Saved stiffness values: /home/steve/Projects/WeaverLab/STIFMaps/temp_outputs/1865/STIFMap_tiles/1865_0_0.npy\n",
      "Generating STIFMap for /home/steve/Projects/WeaverLab/STIFMaps/temp_outputs/1865/IPMN_tiles/1865_C0_0_1.tif, /home/steve/Projects/WeaverLab/STIFMaps/temp_outputs/1865/IPMN_tiles/1865_C1_0_1.tif\n",
      "Device is cpu\n"
     ]
    },
    {
     "name": "stderr",
     "output_type": "stream",
     "text": [
      "/home/steve/.local/lib/python3.10/site-packages/STIFMaps/STIFMap_generation.py:145: FutureWarning: `imshow` is deprecated since version 0.25 and will be removed in version 0.27. Please use `matplotlib`, `napari`, etc. to visualize images.\n",
      "  io.imshow(np.moveaxis(im, 0, -1))\n"
     ]
    },
    {
     "name": "stdout",
     "output_type": "stream",
     "text": [
      "Image shape is (3, 5003, 5003)\n",
      "Num squares in x direction is 45\n",
      "Num squares in y direction is 45\n",
      "Time taken to predict squares is 20.136373281478882\n",
      "Time taken to predict squares is 39.95189952850342\n",
      "Time taken to predict squares is 60.05371451377869\n",
      "Time taken to predict squares is 79.87101602554321\n",
      "Time taken to predict squares is 100.67441415786743\n",
      "Total time taken is 101.62596368789673\n",
      "Elapsed time: 1 minutes, 41.6 seconds\n",
      "Saved image: /home/steve/Projects/WeaverLab/STIFMaps/temp_outputs/1865/STIFMap_tiles/1865_0_1.png\n",
      "Saved stiffness values: /home/steve/Projects/WeaverLab/STIFMaps/temp_outputs/1865/STIFMap_tiles/1865_0_1.npy\n",
      "Generating STIFMap for /home/steve/Projects/WeaverLab/STIFMaps/temp_outputs/1865/IPMN_tiles/1865_C0_0_2.tif, /home/steve/Projects/WeaverLab/STIFMaps/temp_outputs/1865/IPMN_tiles/1865_C1_0_2.tif\n",
      "Device is cpu\n"
     ]
    },
    {
     "name": "stderr",
     "output_type": "stream",
     "text": [
      "/home/steve/.local/lib/python3.10/site-packages/STIFMaps/STIFMap_generation.py:145: FutureWarning: `imshow` is deprecated since version 0.25 and will be removed in version 0.27. Please use `matplotlib`, `napari`, etc. to visualize images.\n",
      "  io.imshow(np.moveaxis(im, 0, -1))\n"
     ]
    },
    {
     "name": "stdout",
     "output_type": "stream",
     "text": [
      "Image shape is (3, 5003, 5003)\n",
      "Num squares in x direction is 45\n",
      "Num squares in y direction is 45\n",
      "Time taken to predict squares is 20.31898283958435\n",
      "Time taken to predict squares is 40.33865809440613\n",
      "Time taken to predict squares is 60.148409843444824\n",
      "Time taken to predict squares is 81.56928277015686\n",
      "Time taken to predict squares is 101.4377212524414\n",
      "Total time taken is 102.40252327919006\n",
      "Elapsed time: 1 minutes, 42.4 seconds\n",
      "Saved image: /home/steve/Projects/WeaverLab/STIFMaps/temp_outputs/1865/STIFMap_tiles/1865_0_2.png\n",
      "Saved stiffness values: /home/steve/Projects/WeaverLab/STIFMaps/temp_outputs/1865/STIFMap_tiles/1865_0_2.npy\n",
      "Generating STIFMap for /home/steve/Projects/WeaverLab/STIFMaps/temp_outputs/1865/IPMN_tiles/1865_C0_0_3.tif, /home/steve/Projects/WeaverLab/STIFMaps/temp_outputs/1865/IPMN_tiles/1865_C1_0_3.tif\n",
      "Device is cpu\n"
     ]
    },
    {
     "name": "stderr",
     "output_type": "stream",
     "text": [
      "/home/steve/.local/lib/python3.10/site-packages/STIFMaps/STIFMap_generation.py:145: FutureWarning: `imshow` is deprecated since version 0.25 and will be removed in version 0.27. Please use `matplotlib`, `napari`, etc. to visualize images.\n",
      "  io.imshow(np.moveaxis(im, 0, -1))\n"
     ]
    },
    {
     "name": "stdout",
     "output_type": "stream",
     "text": [
      "Image shape is (3, 5003, 5003)\n",
      "Num squares in x direction is 45\n",
      "Num squares in y direction is 45\n",
      "Time taken to predict squares is 20.93998408317566\n",
      "Time taken to predict squares is 41.863353967666626\n",
      "Time taken to predict squares is 62.20378923416138\n",
      "Time taken to predict squares is 82.71721911430359\n",
      "Time taken to predict squares is 107.51969051361084\n",
      "Total time taken is 108.45989394187927\n",
      "Elapsed time: 1 minutes, 48.5 seconds\n",
      "Saved image: /home/steve/Projects/WeaverLab/STIFMaps/temp_outputs/1865/STIFMap_tiles/1865_0_3.png\n",
      "Saved stiffness values: /home/steve/Projects/WeaverLab/STIFMaps/temp_outputs/1865/STIFMap_tiles/1865_0_3.npy\n",
      "Generating STIFMap for /home/steve/Projects/WeaverLab/STIFMaps/temp_outputs/1865/IPMN_tiles/1865_C0_0_4.tif, /home/steve/Projects/WeaverLab/STIFMaps/temp_outputs/1865/IPMN_tiles/1865_C1_0_4.tif\n",
      "Device is cpu\n"
     ]
    },
    {
     "name": "stderr",
     "output_type": "stream",
     "text": [
      "/home/steve/.local/lib/python3.10/site-packages/STIFMaps/STIFMap_generation.py:145: FutureWarning: `imshow` is deprecated since version 0.25 and will be removed in version 0.27. Please use `matplotlib`, `napari`, etc. to visualize images.\n",
      "  io.imshow(np.moveaxis(im, 0, -1))\n"
     ]
    },
    {
     "name": "stdout",
     "output_type": "stream",
     "text": [
      "Image shape is (3, 5003, 5003)\n",
      "Num squares in x direction is 45\n",
      "Num squares in y direction is 45\n",
      "Time taken to predict squares is 20.506682634353638\n",
      "Time taken to predict squares is 42.13099956512451\n",
      "Time taken to predict squares is 62.44685482978821\n",
      "Time taken to predict squares is 82.59348607063293\n",
      "Time taken to predict squares is 102.75768423080444\n",
      "Total time taken is 103.7666585445404\n",
      "Elapsed time: 1 minutes, 43.8 seconds\n",
      "Saved image: /home/steve/Projects/WeaverLab/STIFMaps/temp_outputs/1865/STIFMap_tiles/1865_0_4.png\n",
      "Saved stiffness values: /home/steve/Projects/WeaverLab/STIFMaps/temp_outputs/1865/STIFMap_tiles/1865_0_4.npy\n",
      "Generating STIFMap for /home/steve/Projects/WeaverLab/STIFMaps/temp_outputs/1865/IPMN_tiles/1865_C0_0_5.tif, /home/steve/Projects/WeaverLab/STIFMaps/temp_outputs/1865/IPMN_tiles/1865_C1_0_5.tif\n",
      "Device is cpu\n"
     ]
    },
    {
     "name": "stderr",
     "output_type": "stream",
     "text": [
      "/home/steve/.local/lib/python3.10/site-packages/STIFMaps/STIFMap_generation.py:145: FutureWarning: `imshow` is deprecated since version 0.25 and will be removed in version 0.27. Please use `matplotlib`, `napari`, etc. to visualize images.\n",
      "  io.imshow(np.moveaxis(im, 0, -1))\n"
     ]
    },
    {
     "name": "stdout",
     "output_type": "stream",
     "text": [
      "Image shape is (3, 5003, 5003)\n",
      "Num squares in x direction is 45\n",
      "Num squares in y direction is 45\n",
      "Time taken to predict squares is 20.252938985824585\n",
      "Time taken to predict squares is 41.867929458618164\n",
      "Time taken to predict squares is 62.376028299331665\n",
      "Time taken to predict squares is 82.41523909568787\n",
      "Time taken to predict squares is 102.82286095619202\n",
      "Total time taken is 103.73649096488953\n",
      "Elapsed time: 1 minutes, 43.8 seconds\n",
      "Saved image: /home/steve/Projects/WeaverLab/STIFMaps/temp_outputs/1865/STIFMap_tiles/1865_0_5.png\n",
      "Saved stiffness values: /home/steve/Projects/WeaverLab/STIFMaps/temp_outputs/1865/STIFMap_tiles/1865_0_5.npy\n",
      "Generating STIFMap for /home/steve/Projects/WeaverLab/STIFMaps/temp_outputs/1865/IPMN_tiles/1865_C0_0_6.tif, /home/steve/Projects/WeaverLab/STIFMaps/temp_outputs/1865/IPMN_tiles/1865_C1_0_6.tif\n",
      "Device is cpu\n"
     ]
    },
    {
     "name": "stderr",
     "output_type": "stream",
     "text": [
      "/home/steve/.local/lib/python3.10/site-packages/STIFMaps/STIFMap_generation.py:145: FutureWarning: `imshow` is deprecated since version 0.25 and will be removed in version 0.27. Please use `matplotlib`, `napari`, etc. to visualize images.\n",
      "  io.imshow(np.moveaxis(im, 0, -1))\n"
     ]
    },
    {
     "name": "stdout",
     "output_type": "stream",
     "text": [
      "Image shape is (3, 5003, 5003)\n",
      "Num squares in x direction is 45\n",
      "Num squares in y direction is 45\n",
      "Time taken to predict squares is 20.806302070617676\n",
      "Time taken to predict squares is 41.799278259277344\n",
      "Time taken to predict squares is 62.16493582725525\n",
      "Time taken to predict squares is 82.78205060958862\n",
      "Time taken to predict squares is 103.73200964927673\n",
      "Total time taken is 104.74195265769958\n",
      "Elapsed time: 1 minutes, 44.8 seconds\n",
      "Saved image: /home/steve/Projects/WeaverLab/STIFMaps/temp_outputs/1865/STIFMap_tiles/1865_0_6.png\n",
      "Saved stiffness values: /home/steve/Projects/WeaverLab/STIFMaps/temp_outputs/1865/STIFMap_tiles/1865_0_6.npy\n",
      "Generating STIFMap for /home/steve/Projects/WeaverLab/STIFMaps/temp_outputs/1865/IPMN_tiles/1865_C0_0_7.tif, /home/steve/Projects/WeaverLab/STIFMaps/temp_outputs/1865/IPMN_tiles/1865_C1_0_7.tif\n",
      "Device is cpu\n"
     ]
    },
    {
     "name": "stderr",
     "output_type": "stream",
     "text": [
      "/home/steve/.local/lib/python3.10/site-packages/STIFMaps/STIFMap_generation.py:145: FutureWarning: `imshow` is deprecated since version 0.25 and will be removed in version 0.27. Please use `matplotlib`, `napari`, etc. to visualize images.\n",
      "  io.imshow(np.moveaxis(im, 0, -1))\n"
     ]
    },
    {
     "name": "stdout",
     "output_type": "stream",
     "text": [
      "Image shape is (3, 5003, 5003)\n",
      "Num squares in x direction is 45\n",
      "Num squares in y direction is 45\n",
      "Time taken to predict squares is 19.75941491127014\n",
      "Time taken to predict squares is 39.97764039039612\n",
      "Time taken to predict squares is 60.16023564338684\n",
      "Time taken to predict squares is 81.34139800071716\n",
      "Time taken to predict squares is 101.92197942733765\n",
      "Total time taken is 102.76785659790039\n",
      "Elapsed time: 1 minutes, 42.8 seconds\n",
      "Saved image: /home/steve/Projects/WeaverLab/STIFMaps/temp_outputs/1865/STIFMap_tiles/1865_0_7.png\n",
      "Saved stiffness values: /home/steve/Projects/WeaverLab/STIFMaps/temp_outputs/1865/STIFMap_tiles/1865_0_7.npy\n",
      "Generating STIFMap for /home/steve/Projects/WeaverLab/STIFMaps/temp_outputs/1865/IPMN_tiles/1865_C0_0_8.tif, /home/steve/Projects/WeaverLab/STIFMaps/temp_outputs/1865/IPMN_tiles/1865_C1_0_8.tif\n",
      "Device is cpu\n"
     ]
    },
    {
     "name": "stderr",
     "output_type": "stream",
     "text": [
      "/home/steve/.local/lib/python3.10/site-packages/STIFMaps/STIFMap_generation.py:145: FutureWarning: `imshow` is deprecated since version 0.25 and will be removed in version 0.27. Please use `matplotlib`, `napari`, etc. to visualize images.\n",
      "  io.imshow(np.moveaxis(im, 0, -1))\n"
     ]
    },
    {
     "name": "stdout",
     "output_type": "stream",
     "text": [
      "Image shape is (3, 5003, 5003)\n",
      "Num squares in x direction is 45\n",
      "Num squares in y direction is 45\n",
      "Time taken to predict squares is 20.753772258758545\n",
      "Time taken to predict squares is 41.30594325065613\n",
      "Time taken to predict squares is 62.26891112327576\n",
      "Time taken to predict squares is 83.18122029304504\n",
      "Time taken to predict squares is 103.04140329360962\n",
      "Total time taken is 103.91314768791199\n",
      "Elapsed time: 1 minutes, 43.9 seconds\n",
      "Saved image: /home/steve/Projects/WeaverLab/STIFMaps/temp_outputs/1865/STIFMap_tiles/1865_0_8.png\n",
      "Saved stiffness values: /home/steve/Projects/WeaverLab/STIFMaps/temp_outputs/1865/STIFMap_tiles/1865_0_8.npy\n",
      "Generating STIFMap for /home/steve/Projects/WeaverLab/STIFMaps/temp_outputs/1865/IPMN_tiles/1865_C0_1_0.tif, /home/steve/Projects/WeaverLab/STIFMaps/temp_outputs/1865/IPMN_tiles/1865_C1_1_0.tif\n",
      "Device is cpu\n"
     ]
    },
    {
     "name": "stderr",
     "output_type": "stream",
     "text": [
      "/home/steve/.local/lib/python3.10/site-packages/STIFMaps/STIFMap_generation.py:145: FutureWarning: `imshow` is deprecated since version 0.25 and will be removed in version 0.27. Please use `matplotlib`, `napari`, etc. to visualize images.\n",
      "  io.imshow(np.moveaxis(im, 0, -1))\n"
     ]
    },
    {
     "name": "stdout",
     "output_type": "stream",
     "text": [
      "Image shape is (3, 5003, 5003)\n",
      "Num squares in x direction is 45\n",
      "Num squares in y direction is 45\n",
      "Time taken to predict squares is 20.32357692718506\n",
      "Time taken to predict squares is 40.77726125717163\n",
      "Time taken to predict squares is 62.76702666282654\n",
      "Time taken to predict squares is 82.97491002082825\n",
      "Time taken to predict squares is 103.32251954078674\n",
      "Total time taken is 104.2440893650055\n",
      "Elapsed time: 1 minutes, 44.2 seconds\n",
      "Saved image: /home/steve/Projects/WeaverLab/STIFMaps/temp_outputs/1865/STIFMap_tiles/1865_1_0.png\n",
      "Saved stiffness values: /home/steve/Projects/WeaverLab/STIFMaps/temp_outputs/1865/STIFMap_tiles/1865_1_0.npy\n",
      "Generating STIFMap for /home/steve/Projects/WeaverLab/STIFMaps/temp_outputs/1865/IPMN_tiles/1865_C0_1_1.tif, /home/steve/Projects/WeaverLab/STIFMaps/temp_outputs/1865/IPMN_tiles/1865_C1_1_1.tif\n",
      "Device is cpu\n"
     ]
    },
    {
     "name": "stderr",
     "output_type": "stream",
     "text": [
      "/home/steve/.local/lib/python3.10/site-packages/STIFMaps/STIFMap_generation.py:145: FutureWarning: `imshow` is deprecated since version 0.25 and will be removed in version 0.27. Please use `matplotlib`, `napari`, etc. to visualize images.\n",
      "  io.imshow(np.moveaxis(im, 0, -1))\n"
     ]
    },
    {
     "name": "stdout",
     "output_type": "stream",
     "text": [
      "Image shape is (3, 5003, 5003)\n",
      "Num squares in x direction is 45\n",
      "Num squares in y direction is 45\n",
      "Time taken to predict squares is 19.768529176712036\n",
      "Time taken to predict squares is 39.641878604888916\n",
      "Time taken to predict squares is 59.843838691711426\n",
      "Time taken to predict squares is 79.80635285377502\n",
      "Time taken to predict squares is 99.68925786018372\n",
      "Total time taken is 100.5446126461029\n",
      "Elapsed time: 1 minutes, 40.5 seconds\n",
      "Saved image: /home/steve/Projects/WeaverLab/STIFMaps/temp_outputs/1865/STIFMap_tiles/1865_1_1.png\n",
      "Saved stiffness values: /home/steve/Projects/WeaverLab/STIFMaps/temp_outputs/1865/STIFMap_tiles/1865_1_1.npy\n",
      "Generating STIFMap for /home/steve/Projects/WeaverLab/STIFMaps/temp_outputs/1865/IPMN_tiles/1865_C0_1_2.tif, /home/steve/Projects/WeaverLab/STIFMaps/temp_outputs/1865/IPMN_tiles/1865_C1_1_2.tif\n",
      "Device is cpu\n"
     ]
    },
    {
     "name": "stderr",
     "output_type": "stream",
     "text": [
      "/home/steve/.local/lib/python3.10/site-packages/STIFMaps/STIFMap_generation.py:145: FutureWarning: `imshow` is deprecated since version 0.25 and will be removed in version 0.27. Please use `matplotlib`, `napari`, etc. to visualize images.\n",
      "  io.imshow(np.moveaxis(im, 0, -1))\n"
     ]
    },
    {
     "name": "stdout",
     "output_type": "stream",
     "text": [
      "Image shape is (3, 5003, 5003)\n",
      "Num squares in x direction is 45\n",
      "Num squares in y direction is 45\n",
      "Time taken to predict squares is 19.772560358047485\n",
      "Time taken to predict squares is 39.83838629722595\n",
      "Time taken to predict squares is 59.90296936035156\n",
      "Time taken to predict squares is 80.02648377418518\n",
      "Time taken to predict squares is 100.21304368972778\n",
      "Total time taken is 101.06701469421387\n",
      "Elapsed time: 1 minutes, 41.1 seconds\n",
      "Saved image: /home/steve/Projects/WeaverLab/STIFMaps/temp_outputs/1865/STIFMap_tiles/1865_1_2.png\n",
      "Saved stiffness values: /home/steve/Projects/WeaverLab/STIFMaps/temp_outputs/1865/STIFMap_tiles/1865_1_2.npy\n",
      "Generating STIFMap for /home/steve/Projects/WeaverLab/STIFMaps/temp_outputs/1865/IPMN_tiles/1865_C0_1_3.tif, /home/steve/Projects/WeaverLab/STIFMaps/temp_outputs/1865/IPMN_tiles/1865_C1_1_3.tif\n",
      "Device is cpu\n"
     ]
    },
    {
     "name": "stderr",
     "output_type": "stream",
     "text": [
      "/home/steve/.local/lib/python3.10/site-packages/STIFMaps/STIFMap_generation.py:145: FutureWarning: `imshow` is deprecated since version 0.25 and will be removed in version 0.27. Please use `matplotlib`, `napari`, etc. to visualize images.\n",
      "  io.imshow(np.moveaxis(im, 0, -1))\n"
     ]
    },
    {
     "name": "stdout",
     "output_type": "stream",
     "text": [
      "Image shape is (3, 5003, 5003)\n",
      "Num squares in x direction is 45\n",
      "Num squares in y direction is 45\n",
      "Time taken to predict squares is 19.96668529510498\n",
      "Time taken to predict squares is 39.74955463409424\n",
      "Time taken to predict squares is 59.84586691856384\n",
      "Time taken to predict squares is 80.29511523246765\n",
      "Time taken to predict squares is 104.78052854537964\n",
      "Total time taken is 105.82949566841125\n",
      "Elapsed time: 1 minutes, 45.8 seconds\n",
      "Saved image: /home/steve/Projects/WeaverLab/STIFMaps/temp_outputs/1865/STIFMap_tiles/1865_1_3.png\n",
      "Saved stiffness values: /home/steve/Projects/WeaverLab/STIFMaps/temp_outputs/1865/STIFMap_tiles/1865_1_3.npy\n",
      "Generating STIFMap for /home/steve/Projects/WeaverLab/STIFMaps/temp_outputs/1865/IPMN_tiles/1865_C0_1_4.tif, /home/steve/Projects/WeaverLab/STIFMaps/temp_outputs/1865/IPMN_tiles/1865_C1_1_4.tif\n",
      "Device is cpu\n"
     ]
    },
    {
     "name": "stderr",
     "output_type": "stream",
     "text": [
      "/home/steve/.local/lib/python3.10/site-packages/STIFMaps/STIFMap_generation.py:145: FutureWarning: `imshow` is deprecated since version 0.25 and will be removed in version 0.27. Please use `matplotlib`, `napari`, etc. to visualize images.\n",
      "  io.imshow(np.moveaxis(im, 0, -1))\n"
     ]
    },
    {
     "name": "stdout",
     "output_type": "stream",
     "text": [
      "Image shape is (3, 5003, 5003)\n",
      "Num squares in x direction is 45\n",
      "Num squares in y direction is 45\n",
      "Time taken to predict squares is 20.481557369232178\n",
      "Time taken to predict squares is 41.72666096687317\n",
      "Time taken to predict squares is 61.88581967353821\n",
      "Time taken to predict squares is 83.87849807739258\n",
      "Time taken to predict squares is 104.71603441238403\n",
      "Total time taken is 105.89402556419373\n",
      "Elapsed time: 1 minutes, 45.9 seconds\n",
      "Saved image: /home/steve/Projects/WeaverLab/STIFMaps/temp_outputs/1865/STIFMap_tiles/1865_1_4.png\n",
      "Saved stiffness values: /home/steve/Projects/WeaverLab/STIFMaps/temp_outputs/1865/STIFMap_tiles/1865_1_4.npy\n",
      "Generating STIFMap for /home/steve/Projects/WeaverLab/STIFMaps/temp_outputs/1865/IPMN_tiles/1865_C0_1_5.tif, /home/steve/Projects/WeaverLab/STIFMaps/temp_outputs/1865/IPMN_tiles/1865_C1_1_5.tif\n",
      "Device is cpu\n"
     ]
    },
    {
     "name": "stderr",
     "output_type": "stream",
     "text": [
      "/home/steve/.local/lib/python3.10/site-packages/STIFMaps/STIFMap_generation.py:145: FutureWarning: `imshow` is deprecated since version 0.25 and will be removed in version 0.27. Please use `matplotlib`, `napari`, etc. to visualize images.\n",
      "  io.imshow(np.moveaxis(im, 0, -1))\n"
     ]
    },
    {
     "name": "stdout",
     "output_type": "stream",
     "text": [
      "Image shape is (3, 5003, 5003)\n",
      "Num squares in x direction is 45\n",
      "Num squares in y direction is 45\n",
      "Time taken to predict squares is 22.25518536567688\n",
      "Time taken to predict squares is 44.65172600746155\n",
      "Time taken to predict squares is 65.85549688339233\n",
      "Time taken to predict squares is 85.84290099143982\n",
      "Time taken to predict squares is 105.63776111602783\n",
      "Total time taken is 106.65770101547241\n",
      "Elapsed time: 1 minutes, 46.7 seconds\n",
      "Saved image: /home/steve/Projects/WeaverLab/STIFMaps/temp_outputs/1865/STIFMap_tiles/1865_1_5.png\n",
      "Saved stiffness values: /home/steve/Projects/WeaverLab/STIFMaps/temp_outputs/1865/STIFMap_tiles/1865_1_5.npy\n",
      "Generating STIFMap for /home/steve/Projects/WeaverLab/STIFMaps/temp_outputs/1865/IPMN_tiles/1865_C0_1_6.tif, /home/steve/Projects/WeaverLab/STIFMaps/temp_outputs/1865/IPMN_tiles/1865_C1_1_6.tif\n",
      "Device is cpu\n"
     ]
    },
    {
     "name": "stderr",
     "output_type": "stream",
     "text": [
      "/home/steve/.local/lib/python3.10/site-packages/STIFMaps/STIFMap_generation.py:145: FutureWarning: `imshow` is deprecated since version 0.25 and will be removed in version 0.27. Please use `matplotlib`, `napari`, etc. to visualize images.\n",
      "  io.imshow(np.moveaxis(im, 0, -1))\n"
     ]
    },
    {
     "name": "stdout",
     "output_type": "stream",
     "text": [
      "Image shape is (3, 5003, 5003)\n",
      "Num squares in x direction is 45\n",
      "Num squares in y direction is 45\n",
      "Time taken to predict squares is 20.020966053009033\n",
      "Time taken to predict squares is 39.98742127418518\n",
      "Time taken to predict squares is 59.84550929069519\n",
      "Time taken to predict squares is 79.82290506362915\n",
      "Time taken to predict squares is 99.85207200050354\n",
      "Total time taken is 100.83612847328186\n",
      "Elapsed time: 1 minutes, 40.8 seconds\n",
      "Saved image: /home/steve/Projects/WeaverLab/STIFMaps/temp_outputs/1865/STIFMap_tiles/1865_1_6.png\n",
      "Saved stiffness values: /home/steve/Projects/WeaverLab/STIFMaps/temp_outputs/1865/STIFMap_tiles/1865_1_6.npy\n",
      "Generating STIFMap for /home/steve/Projects/WeaverLab/STIFMaps/temp_outputs/1865/IPMN_tiles/1865_C0_1_7.tif, /home/steve/Projects/WeaverLab/STIFMaps/temp_outputs/1865/IPMN_tiles/1865_C1_1_7.tif\n",
      "Device is cpu\n"
     ]
    },
    {
     "name": "stderr",
     "output_type": "stream",
     "text": [
      "/home/steve/.local/lib/python3.10/site-packages/STIFMaps/STIFMap_generation.py:145: FutureWarning: `imshow` is deprecated since version 0.25 and will be removed in version 0.27. Please use `matplotlib`, `napari`, etc. to visualize images.\n",
      "  io.imshow(np.moveaxis(im, 0, -1))\n"
     ]
    },
    {
     "name": "stdout",
     "output_type": "stream",
     "text": [
      "Image shape is (3, 5003, 5003)\n",
      "Num squares in x direction is 45\n",
      "Num squares in y direction is 45\n",
      "Time taken to predict squares is 20.3697772026062\n",
      "Time taken to predict squares is 40.491451263427734\n",
      "Time taken to predict squares is 61.80003046989441\n",
      "Time taken to predict squares is 81.89429759979248\n",
      "Time taken to predict squares is 101.63340783119202\n",
      "Total time taken is 102.62706089019775\n",
      "Elapsed time: 1 minutes, 42.6 seconds\n",
      "Saved image: /home/steve/Projects/WeaverLab/STIFMaps/temp_outputs/1865/STIFMap_tiles/1865_1_7.png\n",
      "Saved stiffness values: /home/steve/Projects/WeaverLab/STIFMaps/temp_outputs/1865/STIFMap_tiles/1865_1_7.npy\n",
      "Generating STIFMap for /home/steve/Projects/WeaverLab/STIFMaps/temp_outputs/1865/IPMN_tiles/1865_C0_1_8.tif, /home/steve/Projects/WeaverLab/STIFMaps/temp_outputs/1865/IPMN_tiles/1865_C1_1_8.tif\n",
      "Device is cpu\n"
     ]
    },
    {
     "name": "stderr",
     "output_type": "stream",
     "text": [
      "/home/steve/.local/lib/python3.10/site-packages/STIFMaps/STIFMap_generation.py:145: FutureWarning: `imshow` is deprecated since version 0.25 and will be removed in version 0.27. Please use `matplotlib`, `napari`, etc. to visualize images.\n",
      "  io.imshow(np.moveaxis(im, 0, -1))\n"
     ]
    },
    {
     "name": "stdout",
     "output_type": "stream",
     "text": [
      "Image shape is (3, 5003, 5003)\n",
      "Num squares in x direction is 45\n",
      "Num squares in y direction is 45\n",
      "Time taken to predict squares is 19.88468050956726\n",
      "Time taken to predict squares is 39.995951414108276\n",
      "Time taken to predict squares is 59.88841795921326\n",
      "Time taken to predict squares is 79.93544626235962\n",
      "Time taken to predict squares is 99.53759717941284\n",
      "Total time taken is 100.42511677742004\n",
      "Elapsed time: 1 minutes, 40.4 seconds\n",
      "Saved image: /home/steve/Projects/WeaverLab/STIFMaps/temp_outputs/1865/STIFMap_tiles/1865_1_8.png\n",
      "Saved stiffness values: /home/steve/Projects/WeaverLab/STIFMaps/temp_outputs/1865/STIFMap_tiles/1865_1_8.npy\n",
      "Generating STIFMap for /home/steve/Projects/WeaverLab/STIFMaps/temp_outputs/1865/IPMN_tiles/1865_C0_2_0.tif, /home/steve/Projects/WeaverLab/STIFMaps/temp_outputs/1865/IPMN_tiles/1865_C1_2_0.tif\n",
      "Device is cpu\n"
     ]
    },
    {
     "name": "stderr",
     "output_type": "stream",
     "text": [
      "/home/steve/.local/lib/python3.10/site-packages/STIFMaps/STIFMap_generation.py:145: FutureWarning: `imshow` is deprecated since version 0.25 and will be removed in version 0.27. Please use `matplotlib`, `napari`, etc. to visualize images.\n",
      "  io.imshow(np.moveaxis(im, 0, -1))\n"
     ]
    },
    {
     "name": "stdout",
     "output_type": "stream",
     "text": [
      "Image shape is (3, 5003, 5003)\n",
      "Num squares in x direction is 45\n",
      "Num squares in y direction is 45\n",
      "Time taken to predict squares is 20.861324310302734\n",
      "Time taken to predict squares is 40.95170545578003\n",
      "Time taken to predict squares is 60.81270217895508\n",
      "Time taken to predict squares is 80.79346513748169\n",
      "Time taken to predict squares is 100.67651748657227\n",
      "Total time taken is 101.58971428871155\n",
      "Elapsed time: 1 minutes, 41.6 seconds\n",
      "Saved image: /home/steve/Projects/WeaverLab/STIFMaps/temp_outputs/1865/STIFMap_tiles/1865_2_0.png\n",
      "Saved stiffness values: /home/steve/Projects/WeaverLab/STIFMaps/temp_outputs/1865/STIFMap_tiles/1865_2_0.npy\n",
      "Generating STIFMap for /home/steve/Projects/WeaverLab/STIFMaps/temp_outputs/1865/IPMN_tiles/1865_C0_2_1.tif, /home/steve/Projects/WeaverLab/STIFMaps/temp_outputs/1865/IPMN_tiles/1865_C1_2_1.tif\n",
      "Device is cpu\n"
     ]
    },
    {
     "name": "stderr",
     "output_type": "stream",
     "text": [
      "/home/steve/.local/lib/python3.10/site-packages/STIFMaps/STIFMap_generation.py:145: FutureWarning: `imshow` is deprecated since version 0.25 and will be removed in version 0.27. Please use `matplotlib`, `napari`, etc. to visualize images.\n",
      "  io.imshow(np.moveaxis(im, 0, -1))\n"
     ]
    },
    {
     "name": "stdout",
     "output_type": "stream",
     "text": [
      "Image shape is (3, 5003, 5003)\n",
      "Num squares in x direction is 45\n",
      "Num squares in y direction is 45\n",
      "Time taken to predict squares is 20.26049494743347\n",
      "Time taken to predict squares is 40.600682497024536\n",
      "Time taken to predict squares is 61.88099384307861\n",
      "Time taken to predict squares is 81.85860276222229\n",
      "Time taken to predict squares is 101.85513353347778\n",
      "Total time taken is 102.78611707687378\n",
      "Elapsed time: 1 minutes, 42.8 seconds\n",
      "Saved image: /home/steve/Projects/WeaverLab/STIFMaps/temp_outputs/1865/STIFMap_tiles/1865_2_1.png\n",
      "Saved stiffness values: /home/steve/Projects/WeaverLab/STIFMaps/temp_outputs/1865/STIFMap_tiles/1865_2_1.npy\n",
      "Generating STIFMap for /home/steve/Projects/WeaverLab/STIFMaps/temp_outputs/1865/IPMN_tiles/1865_C0_2_2.tif, /home/steve/Projects/WeaverLab/STIFMaps/temp_outputs/1865/IPMN_tiles/1865_C1_2_2.tif\n",
      "Device is cpu\n"
     ]
    },
    {
     "name": "stderr",
     "output_type": "stream",
     "text": [
      "/home/steve/.local/lib/python3.10/site-packages/STIFMaps/STIFMap_generation.py:145: FutureWarning: `imshow` is deprecated since version 0.25 and will be removed in version 0.27. Please use `matplotlib`, `napari`, etc. to visualize images.\n",
      "  io.imshow(np.moveaxis(im, 0, -1))\n"
     ]
    },
    {
     "name": "stdout",
     "output_type": "stream",
     "text": [
      "Image shape is (3, 5003, 5003)\n",
      "Num squares in x direction is 45\n",
      "Num squares in y direction is 45\n",
      "Time taken to predict squares is 19.901079416275024\n",
      "Time taken to predict squares is 39.672219038009644\n",
      "Time taken to predict squares is 59.743818521499634\n",
      "Time taken to predict squares is 79.51661896705627\n",
      "Time taken to predict squares is 99.20447325706482\n",
      "Total time taken is 100.286776304245\n",
      "Elapsed time: 1 minutes, 40.3 seconds\n",
      "Saved image: /home/steve/Projects/WeaverLab/STIFMaps/temp_outputs/1865/STIFMap_tiles/1865_2_2.png\n",
      "Saved stiffness values: /home/steve/Projects/WeaverLab/STIFMaps/temp_outputs/1865/STIFMap_tiles/1865_2_2.npy\n",
      "Generating STIFMap for /home/steve/Projects/WeaverLab/STIFMaps/temp_outputs/1865/IPMN_tiles/1865_C0_2_3.tif, /home/steve/Projects/WeaverLab/STIFMaps/temp_outputs/1865/IPMN_tiles/1865_C1_2_3.tif\n",
      "Device is cpu\n"
     ]
    },
    {
     "name": "stderr",
     "output_type": "stream",
     "text": [
      "/home/steve/.local/lib/python3.10/site-packages/STIFMaps/STIFMap_generation.py:145: FutureWarning: `imshow` is deprecated since version 0.25 and will be removed in version 0.27. Please use `matplotlib`, `napari`, etc. to visualize images.\n",
      "  io.imshow(np.moveaxis(im, 0, -1))\n"
     ]
    },
    {
     "name": "stdout",
     "output_type": "stream",
     "text": [
      "Image shape is (3, 5003, 5003)\n",
      "Num squares in x direction is 45\n",
      "Num squares in y direction is 45\n",
      "Time taken to predict squares is 19.52586340904236\n",
      "Time taken to predict squares is 39.0929913520813\n",
      "Time taken to predict squares is 58.65566658973694\n",
      "Time taken to predict squares is 78.0253233909607\n",
      "Time taken to predict squares is 97.70429015159607\n",
      "Total time taken is 98.71047115325928\n",
      "Elapsed time: 1 minutes, 38.7 seconds\n",
      "Saved image: /home/steve/Projects/WeaverLab/STIFMaps/temp_outputs/1865/STIFMap_tiles/1865_2_3.png\n",
      "Saved stiffness values: /home/steve/Projects/WeaverLab/STIFMaps/temp_outputs/1865/STIFMap_tiles/1865_2_3.npy\n",
      "Generating STIFMap for /home/steve/Projects/WeaverLab/STIFMaps/temp_outputs/1865/IPMN_tiles/1865_C0_2_4.tif, /home/steve/Projects/WeaverLab/STIFMaps/temp_outputs/1865/IPMN_tiles/1865_C1_2_4.tif\n",
      "Device is cpu\n"
     ]
    },
    {
     "name": "stderr",
     "output_type": "stream",
     "text": [
      "/home/steve/.local/lib/python3.10/site-packages/STIFMaps/STIFMap_generation.py:145: FutureWarning: `imshow` is deprecated since version 0.25 and will be removed in version 0.27. Please use `matplotlib`, `napari`, etc. to visualize images.\n",
      "  io.imshow(np.moveaxis(im, 0, -1))\n"
     ]
    },
    {
     "name": "stdout",
     "output_type": "stream",
     "text": [
      "Image shape is (3, 5003, 5003)\n",
      "Num squares in x direction is 45\n",
      "Num squares in y direction is 45\n",
      "Time taken to predict squares is 19.5784695148468\n",
      "Time taken to predict squares is 38.9815731048584\n",
      "Time taken to predict squares is 58.30815577507019\n",
      "Time taken to predict squares is 77.89311265945435\n",
      "Time taken to predict squares is 97.48802328109741\n",
      "Total time taken is 98.48691010475159\n",
      "Elapsed time: 1 minutes, 38.5 seconds\n",
      "Saved image: /home/steve/Projects/WeaverLab/STIFMaps/temp_outputs/1865/STIFMap_tiles/1865_2_4.png\n",
      "Saved stiffness values: /home/steve/Projects/WeaverLab/STIFMaps/temp_outputs/1865/STIFMap_tiles/1865_2_4.npy\n",
      "Generating STIFMap for /home/steve/Projects/WeaverLab/STIFMaps/temp_outputs/1865/IPMN_tiles/1865_C0_2_5.tif, /home/steve/Projects/WeaverLab/STIFMaps/temp_outputs/1865/IPMN_tiles/1865_C1_2_5.tif\n",
      "Device is cpu\n"
     ]
    },
    {
     "name": "stderr",
     "output_type": "stream",
     "text": [
      "/home/steve/.local/lib/python3.10/site-packages/STIFMaps/STIFMap_generation.py:145: FutureWarning: `imshow` is deprecated since version 0.25 and will be removed in version 0.27. Please use `matplotlib`, `napari`, etc. to visualize images.\n",
      "  io.imshow(np.moveaxis(im, 0, -1))\n"
     ]
    },
    {
     "name": "stdout",
     "output_type": "stream",
     "text": [
      "Image shape is (3, 5003, 5003)\n",
      "Num squares in x direction is 45\n",
      "Num squares in y direction is 45\n",
      "Time taken to predict squares is 19.363563060760498\n",
      "Time taken to predict squares is 38.56706380844116\n",
      "Time taken to predict squares is 57.945115089416504\n",
      "Time taken to predict squares is 77.26220512390137\n",
      "Time taken to predict squares is 96.87693285942078\n",
      "Total time taken is 97.75853776931763\n",
      "Elapsed time: 1 minutes, 37.8 seconds\n",
      "Saved image: /home/steve/Projects/WeaverLab/STIFMaps/temp_outputs/1865/STIFMap_tiles/1865_2_5.png\n",
      "Saved stiffness values: /home/steve/Projects/WeaverLab/STIFMaps/temp_outputs/1865/STIFMap_tiles/1865_2_5.npy\n",
      "Generating STIFMap for /home/steve/Projects/WeaverLab/STIFMaps/temp_outputs/1865/IPMN_tiles/1865_C0_2_6.tif, /home/steve/Projects/WeaverLab/STIFMaps/temp_outputs/1865/IPMN_tiles/1865_C1_2_6.tif\n",
      "Device is cpu\n"
     ]
    },
    {
     "name": "stderr",
     "output_type": "stream",
     "text": [
      "/home/steve/.local/lib/python3.10/site-packages/STIFMaps/STIFMap_generation.py:145: FutureWarning: `imshow` is deprecated since version 0.25 and will be removed in version 0.27. Please use `matplotlib`, `napari`, etc. to visualize images.\n",
      "  io.imshow(np.moveaxis(im, 0, -1))\n"
     ]
    },
    {
     "name": "stdout",
     "output_type": "stream",
     "text": [
      "Image shape is (3, 5003, 5003)\n",
      "Num squares in x direction is 45\n",
      "Num squares in y direction is 45\n",
      "Time taken to predict squares is 19.518123149871826\n",
      "Time taken to predict squares is 39.052465200424194\n",
      "Time taken to predict squares is 58.447494983673096\n",
      "Time taken to predict squares is 78.01000308990479\n",
      "Time taken to predict squares is 97.34577512741089\n",
      "Total time taken is 98.27940011024475\n",
      "Elapsed time: 1 minutes, 38.3 seconds\n",
      "Saved image: /home/steve/Projects/WeaverLab/STIFMaps/temp_outputs/1865/STIFMap_tiles/1865_2_6.png\n",
      "Saved stiffness values: /home/steve/Projects/WeaverLab/STIFMaps/temp_outputs/1865/STIFMap_tiles/1865_2_6.npy\n",
      "Generating STIFMap for /home/steve/Projects/WeaverLab/STIFMaps/temp_outputs/1865/IPMN_tiles/1865_C0_2_7.tif, /home/steve/Projects/WeaverLab/STIFMaps/temp_outputs/1865/IPMN_tiles/1865_C1_2_7.tif\n",
      "Device is cpu\n"
     ]
    },
    {
     "name": "stderr",
     "output_type": "stream",
     "text": [
      "/home/steve/.local/lib/python3.10/site-packages/STIFMaps/STIFMap_generation.py:145: FutureWarning: `imshow` is deprecated since version 0.25 and will be removed in version 0.27. Please use `matplotlib`, `napari`, etc. to visualize images.\n",
      "  io.imshow(np.moveaxis(im, 0, -1))\n"
     ]
    },
    {
     "name": "stdout",
     "output_type": "stream",
     "text": [
      "Image shape is (3, 5003, 5003)\n",
      "Num squares in x direction is 45\n",
      "Num squares in y direction is 45\n",
      "Time taken to predict squares is 19.61232566833496\n",
      "Time taken to predict squares is 39.13421821594238\n",
      "Time taken to predict squares is 58.64314103126526\n",
      "Time taken to predict squares is 78.3181939125061\n",
      "Time taken to predict squares is 97.78459525108337\n",
      "Total time taken is 98.94150972366333\n",
      "Elapsed time: 1 minutes, 39.0 seconds\n",
      "Saved image: /home/steve/Projects/WeaverLab/STIFMaps/temp_outputs/1865/STIFMap_tiles/1865_2_7.png\n",
      "Saved stiffness values: /home/steve/Projects/WeaverLab/STIFMaps/temp_outputs/1865/STIFMap_tiles/1865_2_7.npy\n",
      "Generating STIFMap for /home/steve/Projects/WeaverLab/STIFMaps/temp_outputs/1865/IPMN_tiles/1865_C0_2_8.tif, /home/steve/Projects/WeaverLab/STIFMaps/temp_outputs/1865/IPMN_tiles/1865_C1_2_8.tif\n",
      "Device is cpu\n"
     ]
    },
    {
     "name": "stderr",
     "output_type": "stream",
     "text": [
      "/home/steve/.local/lib/python3.10/site-packages/STIFMaps/STIFMap_generation.py:145: FutureWarning: `imshow` is deprecated since version 0.25 and will be removed in version 0.27. Please use `matplotlib`, `napari`, etc. to visualize images.\n",
      "  io.imshow(np.moveaxis(im, 0, -1))\n"
     ]
    },
    {
     "name": "stdout",
     "output_type": "stream",
     "text": [
      "Image shape is (3, 5003, 5003)\n",
      "Num squares in x direction is 45\n",
      "Num squares in y direction is 45\n",
      "Time taken to predict squares is 19.423487424850464\n",
      "Time taken to predict squares is 38.80644392967224\n",
      "Time taken to predict squares is 58.369614362716675\n",
      "Time taken to predict squares is 77.77997183799744\n"
     ]
    }
   ],
   "source": [
    "def get_base_file_name(file_path):\n",
    "    # Extract the file name without the extension\n",
    "    file_name = os.path.splitext(os.path.basename(file_path))[0]\n",
    "    # Keep only the first two parts (e.g., '27620_C0') by splitting on '_'\n",
    "    base_name = \"_\".join(file_name.split(\"_\")[:2])\n",
    "    return base_name\n",
    "\n",
    "# Generate the STIFMaps for all the tiles for a base image\n",
    "def gen_STIFMap(base_name):\n",
    "    dapi_path, collagen_path = get_dapi_and_collagen_paths(base_name, orig_image_dir=ORIG_IMAGE_DIR)\n",
    "    base_name_C0 = get_base_file_name(dapi_path)\n",
    "    base_name_C1 = get_base_file_name(collagen_path)    \n",
    "    \n",
    "    # Automatically determine num_rows and num_cols based on filenames\n",
    "    tile_pattern_C0 = re.compile(rf\"{base_name_C0}_(\\d+)_(\\d+)\\.tif\")\n",
    "    tile_pattern_C1 = re.compile(rf\"{base_name_C1}_(\\d+)_(\\d+)\\.tif\")\n",
    "\n",
    "    # tile_pattern = re.compile(rf\"{base_name_C0}_(\\d+)_(\\d+)\\.tif\")\n",
    "    tile_image_dir = os.path.join(TEMP_OUTPUTS_DIR, base_name, \"IPMN_tiles\")\n",
    "    \n",
    "    # Dictionary to store how many columns exist per row\n",
    "    row_col_map = {}\n",
    "    \n",
    "    # Loop through files and match patterns\n",
    "    for file in os.listdir(tile_image_dir):\n",
    "        # match = tile_pattern.match(file)\n",
    "        match_C0 = tile_pattern_C0.match(file)\n",
    "        match_C1 = tile_pattern_C1.match(file)\n",
    "\n",
    "        if match_C0 or match_C1:\n",
    "            match = match_C0 or match_C1\n",
    "            row, col = map(int, match.groups())\n",
    "            row_col_map.setdefault(row, set()).add(col)\n",
    "            # print(f\"Matched Row: {row}, Column: {col}\")\n",
    "    \n",
    "    # Find the maximum number of columns\n",
    "    if not row_col_map:\n",
    "        raise ValueError(\"No matching files found in the directory.\")\n",
    "    \n",
    "    max_cols = max(len(cols) for cols in row_col_map.values())\n",
    "    \n",
    "    # Select only rows with the full set of columns\n",
    "    valid_rows = sorted([row for row, cols in row_col_map.items() if len(cols) == max_cols])\n",
    "    num_rows = len(valid_rows)\n",
    "    num_cols = max_cols\n",
    "\n",
    "    # print(\"Row to Columns mapping:\", row_col_map)\n",
    "    # print(\"Valid rows with full columns:\", valid_rows)\n",
    "    \n",
    "    print(f\"Detected grid size: {num_rows} rows x {num_cols} columns\")\n",
    "    \n",
    "    # Create a list of file names for C0 and C1 tiles\n",
    "    # C0_files = [f\"{base_name_C0}_{i}_{j}.tif\" for i in range(num_rows) for j in range(num_cols)]\n",
    "    # C1_files = [f\"{base_name_C1}_{i}_{j}.tif\" for i in range(num_rows) for j in range(num_cols)]\n",
    "    \n",
    "    # Main: Loop through all the tiled C0 and C1 images and pass each one to run_STIFMap()\n",
    "    for row in valid_rows:  # Iterate only over rows with full columns\n",
    "        for col in range(num_cols):\n",
    "            dapi_path = os.path.join(tile_image_dir, f\"{base_name_C0}_{row}_{col}.tif\")\n",
    "            collagen_path = os.path.join(tile_image_dir, f\"{base_name_C1}_{row}_{col}.tif\")\n",
    "    \n",
    "            # Ensure files exist before processing\n",
    "            if not os.path.exists(dapi_path) or not os.path.exists(collagen_path):\n",
    "                print(f\"Skipping missing tile: {dapi_path} or {collagen_path}\")\n",
    "                continue\n",
    "            \n",
    "            output_path = gen_STIFMap_tile_path(dapi_path)\n",
    "            # output_path = gen_output_path(dapi_path)\n",
    "            \n",
    "            if is_tile_completed(output_path):\n",
    "                print(f\"Skipping already processed tile: {dapi_path} and {collagen_path}\")\n",
    "                continue\n",
    "\n",
    "            print(f\"Generating STIFMap for {dapi_path}, {collagen_path}\")\n",
    "            gen_STIFMap_tile(\n",
    "                dapi_path, collagen_path, name=base_name, step=STIFMap_STEP,\n",
    "                models=models, batch_size=STIFMap_BATCH_SIZE, square_side=STIFMap_SQUARE_SIDE,\n",
    "                check_existing=True\n",
    "            )\n",
    "    \n",
    "    stitched_output_path = os.path.join(FINAL_OUTPUTS_DIR, f\"{base_name}_STIFMap_stitched.png\")\n",
    "    stitch_images(stitched_output_path, base_name, image_format='png')\n",
    "    save_stiffness_colormap(stitched_output_path, base_name)\n",
    "            \n",
    "gen_STIFMap(base_name=BASE_NAMES[0])"
   ]
  },
  {
   "cell_type": "code",
   "execution_count": null,
   "id": "27f6cbd9-3554-401a-9709-0edcb42d90d7",
   "metadata": {
    "scrolled": true
   },
   "outputs": [
    {
     "name": "stdout",
     "output_type": "stream",
     "text": [
      "Row to Columns mapping: {2: {0, 1, 2}, 1: {0, 1, 2}, 0: {0, 1, 2}}\n",
      "Valid rows with full columns: [0, 1, 2]\n",
      "Detected grid size: 3 rows x 3 columns\n",
      "Generating STIFMap for /home/steve/Projects/WeaverLab/STIFMaps/temp_outputs/1865/IPMN_tiles/1865_C0_0_0.tif, /home/steve/Projects/WeaverLab/STIFMaps/temp_outputs/1865/IPMN_tiles/1865_C1_0_0.tif\n",
      "Device is cpu\n"
     ]
    },
    {
     "name": "stderr",
     "output_type": "stream",
     "text": [
      "/home/steve/.local/lib/python3.10/site-packages/STIFMaps/STIFMap_generation.py:145: FutureWarning: `imshow` is deprecated since version 0.25 and will be removed in version 0.27. Please use `matplotlib`, `napari`, etc. to visualize images.\n",
      "  io.imshow(np.moveaxis(im, 0, -1))\n"
     ]
    },
    {
     "name": "stdout",
     "output_type": "stream",
     "text": [
      "Image shape is (3, 20000, 20000)\n",
      "Num squares in x direction is 245\n",
      "Num squares in y direction is 245\n",
      "Time taken to predict squares is 463.0807526111603\n",
      "Time taken to predict squares is 936.1929988861084\n"
     ]
    }
   ],
   "source": [
    "for base_name in BASE_NAMES:\n",
    "    gen_STIFMap(base_name=base_name)"
   ]
  },
  {
   "cell_type": "code",
   "execution_count": 43,
   "id": "9490f430-df36-4399-8026-2e9ed353bcb1",
   "metadata": {},
   "outputs": [
    {
     "name": "stdout",
     "output_type": "stream",
     "text": [
      "Detected grid size: 15 rows x 18 columns\n",
      "Missing tile: 27620_STIFMap_13_3.png. Replacing with a white tile.\n",
      "Missing tile: 27620_STIFMap_13_4.png. Replacing with a white tile.\n",
      "Missing tile: 27620_STIFMap_13_5.png. Replacing with a white tile.\n",
      "Missing tile: 27620_STIFMap_13_6.png. Replacing with a white tile.\n",
      "Missing tile: 27620_STIFMap_13_7.png. Replacing with a white tile.\n",
      "Missing tile: 27620_STIFMap_13_8.png. Replacing with a white tile.\n",
      "Missing tile: 27620_STIFMap_13_9.png. Replacing with a white tile.\n",
      "Missing tile: 27620_STIFMap_13_10.png. Replacing with a white tile.\n",
      "Missing tile: 27620_STIFMap_13_11.png. Replacing with a white tile.\n",
      "Missing tile: 27620_STIFMap_13_12.png. Replacing with a white tile.\n",
      "Missing tile: 27620_STIFMap_13_13.png. Replacing with a white tile.\n",
      "Missing tile: 27620_STIFMap_13_14.png. Replacing with a white tile.\n",
      "Missing tile: 27620_STIFMap_13_15.png. Replacing with a white tile.\n",
      "Missing tile: 27620_STIFMap_13_16.png. Replacing with a white tile.\n",
      "Missing tile: 27620_STIFMap_13_17.png. Replacing with a white tile.\n",
      "Stitched image saved as /home/steve/Projects/WeaverLab/STIFMaps/STIFMap_normalized_images_v2/27620_STIFMap_stitched_v2.png\n"
     ]
    }
   ],
   "source": [
    "# Stitch the processed tiles back together\n",
    "# stitched_output_path = os.path.join(STIFMaps_directory, f\"{base_name[0]}_STIFMap_stitched_v2.png\")\n",
    "# base_name = BASE_NAMES[0]\n",
    "# stitched_output_path = os.path.join(TEMP_DIR, f\"{base_name}_STIFMap_stitched.png\")\n",
    "# stitch_images(stitched_output_path, base_name, image_format='png')"
   ]
  },
  {
   "cell_type": "code",
   "execution_count": null,
   "id": "1c1d70b8-74c7-42e5-9b43-ef8575ebfff4",
   "metadata": {},
   "outputs": [],
   "source": []
  }
 ],
 "metadata": {
  "kernelspec": {
   "display_name": "Python (STIFMaps)",
   "language": "python",
   "name": "stifmaps"
  },
  "language_info": {
   "codemirror_mode": {
    "name": "ipython",
    "version": 3
   },
   "file_extension": ".py",
   "mimetype": "text/x-python",
   "name": "python",
   "nbconvert_exporter": "python",
   "pygments_lexer": "ipython3",
   "version": "3.10.16"
  }
 },
 "nbformat": 4,
 "nbformat_minor": 5
}
