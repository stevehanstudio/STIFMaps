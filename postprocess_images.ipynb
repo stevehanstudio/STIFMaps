{
 "cells": [
  {
   "cell_type": "code",
   "execution_count": 1,
   "id": "956227a9-486f-4790-852d-0897fc8db5b5",
   "metadata": {},
   "outputs": [],
   "source": [
    "# Import from the globals_and_helpers file\n",
    "from globals_and_helpers import (\n",
    "    TEMP_OUTPUTS_DIR,\n",
    "    FINAL_OUTPUTS_DIR,\n",
    "    # generate_colormap_legend,\n",
    "    calc_crop_dimensions,\n",
    ")"
   ]
  },
  {
   "cell_type": "code",
   "execution_count": null,
   "id": "44ffab7e-0c1c-443b-9768-aa14c3333e28",
   "metadata": {},
   "outputs": [
    {
     "ename": "",
     "evalue": "",
     "output_type": "error",
     "traceback": [
      "\u001b[1;31mnotebook controller is DISPOSED. \n",
      "\u001b[1;31mView Jupyter <a href='command:jupyter.viewOutput'>log</a> for further details."
     ]
    }
   ],
   "source": [
    "# generate_colormap_legend(2)"
   ]
  },
  {
   "cell_type": "code",
   "execution_count": 2,
   "id": "204be092-34f6-4d95-8ac1-7061b505e3ab",
   "metadata": {},
   "outputs": [
    {
     "name": "stdout",
     "output_type": "stream",
     "text": [
      "File: 27620_C0_full.tif, Dimensions: 25922x31398\n",
      "Original Image Dimensions: 2464x2112\n",
      "Cropped Image Dimensions: 1823.814511293224x2209.0937437537477\n"
     ]
    },
    {
     "data": {
      "text/plain": [
       "(1823.814511293224, 2209.0937437537477)"
      ]
     },
     "execution_count": 2,
     "metadata": {},
     "output_type": "execute_result"
    }
   ],
   "source": [
    "calc_crop_dimensions(\"27620\")"
   ]
  },
  {
   "cell_type": "code",
   "execution_count": null,
   "id": "565c74df",
   "metadata": {},
   "outputs": [],
   "source": []
  }
 ],
 "metadata": {
  "kernelspec": {
   "display_name": "STIFMaps",
   "language": "python",
   "name": "python3"
  },
  "language_info": {
   "codemirror_mode": {
    "name": "ipython",
    "version": 3
   },
   "file_extension": ".py",
   "mimetype": "text/x-python",
   "name": "python",
   "nbconvert_exporter": "python",
   "pygments_lexer": "ipython3",
   "version": "3.10.16"
  }
 },
 "nbformat": 4,
 "nbformat_minor": 5
}
