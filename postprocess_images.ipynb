{
 "cells": [
  {
   "cell_type": "code",
   "execution_count": 1,
   "id": "956227a9-486f-4790-852d-0897fc8db5b5",
   "metadata": {},
   "outputs": [],
   "source": [
    "# Import from the globals_and_helpers file\n",
    "from globals_and_helpers import (\n",
    "    TEMP_OUTPUTS_DIR,\n",
    "    FINAL_OUTPUTS_DIR,\n",
    "    # generate_colormap_legend,\n",
    "    calc_crop_dimensions,\n",
    "    crop_STIFMap\n",
    ")"
   ]
  },
  {
   "cell_type": "code",
   "execution_count": 2,
   "id": "44ffab7e-0c1c-443b-9768-aa14c3333e28",
   "metadata": {},
   "outputs": [],
   "source": [
    "# generate_colormap_legend(2)"
   ]
  },
  {
   "cell_type": "code",
   "execution_count": 2,
   "id": "204be092-34f6-4d95-8ac1-7061b505e3ab",
   "metadata": {},
   "outputs": [
    {
     "name": "stdout",
     "output_type": "stream",
     "text": [
      "File: 7002_C0_f.tiff, Dimensions: 51572x31419\n",
      "Original DAPI Image Dimensions: 51572x31419\n",
      "Original STIFMap Image Dimensions: 3872x2464\n",
      "Cropped Image Dimensions: 3628x2211\n",
      "orig_width: 51572, orig_height: 31419, scaling_factor: 14.213068181818182\n"
     ]
    },
    {
     "data": {
      "text/plain": [
       "(3628, 2211)"
      ]
     },
     "execution_count": 2,
     "metadata": {},
     "output_type": "execute_result"
    }
   ],
   "source": [
    "# calc_crop_dimensions(\"27620\")\n",
    "calc_crop_dimensions(\"7002\")"
   ]
  },
  {
   "cell_type": "code",
   "execution_count": 3,
   "id": "565c74df",
   "metadata": {},
   "outputs": [
    {
     "name": "stdout",
     "output_type": "stream",
     "text": [
      "File: 7002_C0_f.tiff, Dimensions: 51572x31419\n",
      "Original DAPI Image Dimensions: 51572x31419\n",
      "Original STIFMap Image Dimensions: 3872x2464\n",
      "Cropped Image Dimensions: 3628x2211\n",
      "orig_width: 51572, orig_height: 31419, scaling_factor: 14.213068181818182\n",
      "Grayscale image saved to c:\\Users\\steve\\Projects\\WeaverLab\\STIFMaps-IPMN-Analysis\\final_outputs\\7002_STIFMap_stitched_cropped_gray.png\n"
     ]
    }
   ],
   "source": [
    "crop_STIFMap(\"7002\")"
   ]
  },
  {
   "cell_type": "code",
   "execution_count": null,
   "id": "1f4ee40a",
   "metadata": {},
   "outputs": [],
   "source": []
  }
 ],
 "metadata": {
  "kernelspec": {
   "display_name": "STIFMaps",
   "language": "python",
   "name": "python3"
  },
  "language_info": {
   "codemirror_mode": {
    "name": "ipython",
    "version": 3
   },
   "file_extension": ".py",
   "mimetype": "text/x-python",
   "name": "python",
   "nbconvert_exporter": "python",
   "pygments_lexer": "ipython3",
   "version": "3.10.16"
  }
 },
 "nbformat": 4,
 "nbformat_minor": 5
}
