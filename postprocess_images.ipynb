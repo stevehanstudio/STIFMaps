{
 "cells": [
  {
   "cell_type": "code",
   "execution_count": 1,
   "execution_count": 1,
   "id": "956227a9-486f-4790-852d-0897fc8db5b5",
   "metadata": {},
   "outputs": [],
   "source": [
    "# Import from the globals_and_helpers file\n",
    "from globals_and_helpers import (\n",
    "    # generate_colormap_legend,\n",
    "    calc_crop_dimensions,\n",
    "    crop_STIFMap,\n",
    "    scale_annotations,\n",
    "    filter_measurements,\n",
    "    stitch_STIFMap_tiles,\n",
    "    gen_report,\n",
    ")"
   ]
  },
  {
   "cell_type": "code",
   "execution_count": 2,
   "id": "44ffab7e-0c1c-443b-9768-aa14c3333e28",
   "metadata": {},
   "outputs": [
    {
     "name": "stdout",
     "output_type": "stream",
     "text": [
      "Detected grid size: 6 rows x 7 columns\n",
      "Conversion factor: 49.49203484343582\n",
      "Stitched grayscale image saved as /home/steve/Projects/WeaverLab/STIFMaps-IPMN-Analysis/final_outputs/27620_STIFMap_stitched.png\n"
     ]
    }
   ],
   "source": [
    "# generate_colormap_legend(2)\n",
    "stitch_STIFMap_tiles(\"27620\")"
   ]
  },
  {
   "cell_type": "code",
   "execution_count": 3,
   "id": "204be092-34f6-4d95-8ac1-7061b505e3ab",
   "metadata": {},
   "outputs": [
    {
     "name": "stdout",
     "output_type": "stream",
     "text": [
      "File: 27620_C0_full.tif, Dimensions: 31398x25922\n",
      "Original DAPI Image Dimensions: 31398x25922\n",
      "Original STIFMap Image Dimensions: 2464x2112\n",
      "Cropped Image Dimensions: 2209x1824\n",
      "orig_width: 31398, orig_height: 25922, scaling_factor: 14.213068181818182\n"
     ]
    },
    {
     "data": {
      "text/plain": [
       "(2209, 1824)"
      ]
     },
     "execution_count": 3,
     "metadata": {},
     "output_type": "execute_result"
    }
   ],
   "source": [
    "calc_crop_dimensions(\"27620\")\n",
    "# calc_crop_dimensions(\"7002\")\n",
    "# calc_crop_dimensions(\"4601\")"
   ]
  },
  {
   "cell_type": "code",
   "execution_count": 4,
   "id": "565c74df",
   "metadata": {},
   "outputs": [
    {
     "name": "stdout",
     "output_type": "stream",
     "text": [
      "File: 27620_C0_full.tif, Dimensions: 31398x25922\n",
      "Original DAPI Image Dimensions: 31398x25922\n",
      "Original STIFMap Image Dimensions: 2464x2112\n",
      "Cropped Image Dimensions: 2209x1824\n",
      "orig_width: 31398, orig_height: 25922, scaling_factor: 14.213068181818182\n",
      "Grayscale image saved to /home/steve/Projects/WeaverLab/STIFMaps-IPMN-Analysis/final_outputs/27620_STIFMap_stitched_cropped_gray.png\n"
     ]
    }
   ],
   "source": [
    "# crop_STIFMap(\"7002\")\n",
    "# crop_STIFMap(\"4601\")\n",
    "crop_STIFMap(\"27620\")\n"
   ]
  },
  {
   "cell_type": "code",
   "execution_count": null,
   "id": "1f4ee40a",
   "metadata": {},
   "outputs": [
    {
     "name": "stdout",
     "output_type": "stream",
     "text": [
      "Number of features in GeoJSON: 21\n",
      "File: 4601_C0_full.tif, Dimensions: 36889x27744\n",
      "File: 4601_C0_full.tif, Dimensions: 36889x27744\n",
      "Original DAPI Image Dimensions: 36889x27744\n",
      "Original STIFMap Image Dimensions: 2816x2112\n",
      "Cropped Image Dimensions: 2595x1952\n",
      "orig_width: 36889, orig_height: 27744, scaling_factor: 14.213068181818182\n",
      "Scaled annotations saved to: c:\\Users\\steve\\Projects\\WeaverLab\\STIFMaps-IPMN-Analysis\\../analysis_panel_1\\4601_scaled_annotations.geojson\n"
     ]
    }
   ],
   "source": [
    "# This step must be runned after exporting Annotations objects as GeoJSON in QuPath\n",
    "# The output of this is used import the annotations in to QuPath on the scaled grayscale image\n",
    "# scale_annotations(\"4601\")\n",
    "scale_annotations(\"27620\")\n"
   ]
  },
  {
   "cell_type": "code",
   "execution_count": 2,
   "execution_count": 2,
   "id": "99b2a9fc",
   "metadata": {},
   "outputs": [
    {
     "data": {
      "text/html": [
       "<div>\n",
       "<style scoped>\n",
       "    .dataframe tbody tr th:only-of-type {\n",
       "        vertical-align: middle;\n",
       "    }\n",
       "\n",
       "    .dataframe tbody tr th {\n",
       "        vertical-align: top;\n",
       "    }\n",
       "\n",
       "    .dataframe thead th {\n",
       "        text-align: right;\n",
       "    }\n",
       "</style>\n",
       "<table border=\"1\" class=\"dataframe\">\n",
       "  <thead>\n",
       "    <tr style=\"text-align: right;\">\n",
       "      <th></th>\n",
       "      <th>Object ID</th>\n",
       "      <th>Object type</th>\n",
       "      <th>Object type</th>\n",
       "      <th>Classification</th>\n",
       "      <th>Mean Intensity</th>\n",
       "      <th>Mean Intensity</th>\n",
       "    </tr>\n",
       "  </thead>\n",
       "  <tbody>\n",
       "    <tr>\n",
       "      <th>0</th>\n",
       "      <td>aac27887-0b37-4b7f-b37f-c6086c973967</td>\n",
       "      <td>Annotation</td>\n",
       "      <td>HGD</td>\n",
       "      <td>73.1771</td>\n",
       "      <th>31</th>\n",
       "      <td>f4dd3722-9b0b-45be-82b1-b5701390fb23</td>\n",
       "      <td>Annotation</td>\n",
       "      <td>LGD</td>\n",
       "      <td>117.4291</td>\n",
       "    </tr>\n",
       "    <tr>\n",
       "      <th>30</th>\n",
       "      <td>25ed0478-a9f2-43cf-9c2f-ce5d7d535ab5</td>\n",
       "      <td>Annotation</td>\n",
       "      <td>LGD</td>\n",
       "      <td>100.5337</td>\n",
       "    </tr>\n",
       "    <tr>\n",
       "      <th>33</th>\n",
       "      <td>57151830-f97e-40c8-816c-6fb8f179df44</td>\n",
       "      <td>Annotation</td>\n",
       "      <td>LGD</td>\n",
       "      <td>86.3118</td>\n",
       "    </tr>\n",
       "    <tr>\n",
       "      <th>35</th>\n",
       "      <td>a4e29dc8-2683-40ed-8cdc-bc6d3a21c992</td>\n",
       "      <td>Annotation</td>\n",
       "      <td>LGD</td>\n",
       "      <td>119.8190</td>\n",
       "      <th>3</th>\n",
       "      <td>7dd01d3a-8934-4ef9-93c1-3c40599dc07c</td>\n",
       "      <td>Annotation</td>\n",
       "      <td>HGD</td>\n",
       "      <td>50.6541</td>\n",
       "    </tr>\n",
       "    <tr>\n",
       "      <th>36</th>\n",
       "      <td>778a383f-2284-4ea9-9d2d-f7e9a4b88e4d</td>\n",
       "      <td>Annotation</td>\n",
       "      <td>LGD</td>\n",
       "      <td>112.1996</td>\n",
       "      <th>4</th>\n",
       "      <td>0525a380-b118-447f-9d5f-1476e72748b5</td>\n",
       "      <td>Annotation</td>\n",
       "      <td>HGD</td>\n",
       "      <td>91.0932</td>\n",
       "    </tr>\n",
       "    <tr>\n",
       "      <th>...</th>\n",
       "      <td>...</td>\n",
       "      <td>...</td>\n",
       "      <td>...</td>\n",
       "      <td>...</td>\n",
       "      <th>5</th>\n",
       "      <td>ab69c066-0e9f-43ff-81a5-cce732a76640</td>\n",
       "      <td>Annotation</td>\n",
       "      <td>HGD</td>\n",
       "      <td>98.6098</td>\n",
       "    </tr>\n",
       "    <tr>\n",
       "      <th>6</th>\n",
       "      <td>7c97f4ab-ac52-40d0-ac0e-0837a4d2b2bc</td>\n",
       "      <td>Annotation</td>\n",
       "      <td>HGD</td>\n",
       "      <td>94.5128</td>\n",
       "    </tr>\n",
       "    <tr>\n",
       "      <th>1</th>\n",
       "      <td>074244f9-ca58-41b0-bb34-beff232c956b</td>\n",
       "      <td>Annotation</td>\n",
       "      <td>HGD_manual</td>\n",
       "      <td>144.4246</td>\n",
       "    </tr>\n",
       "    <tr>\n",
       "      <th>2</th>\n",
       "      <td>53ed2d07-b470-4a86-8158-dad05009c9fe</td>\n",
       "      <td>Annotation</td>\n",
       "      <td>HGD_manual</td>\n",
       "      <td>158.5598</td>\n",
       "      <th>54</th>\n",
       "      <td>6409d1b5-2425-489b-b123-82c59245d9aa</td>\n",
       "      <td>Annotation</td>\n",
       "      <td>background</td>\n",
       "      <td>94.9810</td>\n",
       "    </tr>\n",
       "    <tr>\n",
       "      <th>58</th>\n",
       "      <td>a59fb383-b0c2-44c1-9c48-81d420d7ec53</td>\n",
       "      <td>Annotation</td>\n",
       "      <td>background</td>\n",
       "      <td>122.5274</td>\n",
       "    </tr>\n",
       "    <tr>\n",
       "      <th>62</th>\n",
       "      <td>6c0b8242-4f90-4914-a728-f777df1372c9</td>\n",
       "      <td>Annotation</td>\n",
       "      <td>background</td>\n",
       "      <td>159.0651</td>\n",
       "    </tr>\n",
       "    <tr>\n",
       "      <th>40</th>\n",
       "      <td>f03f9171-2291-4582-a2b6-f9c996fb7416</td>\n",
       "      <td>Annotation</td>\n",
       "      <td>background</td>\n",
       "      <td>113.2182</td>\n",
       "    </tr>\n",
       "    <tr>\n",
       "      <th>28</th>\n",
       "      <td>bf7ac443-b351-4efc-8033-952a9232922a</td>\n",
       "      <td>Annotation</td>\n",
       "      <td>NaN</td>\n",
       "      <td>102.2568</td>\n",
       "    </tr>\n",
       "  </tbody>\n",
       "</table>\n",
       "<p>81 rows × 4 columns</p>\n",
       "</div>"
      ],
      "text/plain": [
       "                               Object ID Object type Classification  \\\n",
       "31  f4dd3722-9b0b-45be-82b1-b5701390fb23  Annotation            LGD   \n",
       "30  25ed0478-a9f2-43cf-9c2f-ce5d7d535ab5  Annotation            LGD   \n",
       "33  57151830-f97e-40c8-816c-6fb8f179df44  Annotation            LGD   \n",
       "35  a4e29dc8-2683-40ed-8cdc-bc6d3a21c992  Annotation            LGD   \n",
       "36  778a383f-2284-4ea9-9d2d-f7e9a4b88e4d  Annotation            LGD   \n",
       "..                                   ...         ...            ...   \n",
       "54  6409d1b5-2425-489b-b123-82c59245d9aa  Annotation     background   \n",
       "58  a59fb383-b0c2-44c1-9c48-81d420d7ec53  Annotation     background   \n",
       "62  6c0b8242-4f90-4914-a728-f777df1372c9  Annotation     background   \n",
       "40  f03f9171-2291-4582-a2b6-f9c996fb7416  Annotation     background   \n",
       "28  bf7ac443-b351-4efc-8033-952a9232922a  Annotation            NaN   \n",
       "\n",
       "    Mean Intensity  \n",
       "31        117.4291  \n",
       "30        100.5337  \n",
       "33         86.3118  \n",
       "35        119.8190  \n",
       "36        112.1996  \n",
       "..             ...  \n",
       "54         94.9810  \n",
       "58        122.5274  \n",
       "62        159.0651  \n",
       "40        113.2182  \n",
       "28        102.2568  \n",
       "\n",
       "[81 rows x 4 columns]"
      ]
     },
     "execution_count": 2,
     "metadata": {},
     "output_type": "execute_result"
    }
   ],
   "source": [
    "# filter_measurements(\"4601\")\n",
    "filter_measurements(\"27620\")"
    "filter_measurements(\"4601\")"
   ]
  },
  {
   "cell_type": "code",
   "execution_count": null,
   "id": "576f0bf9",
   "metadata": {},
   "outputs": [],
   "source": []
  }
 ],
 "metadata": {
  "kernelspec": {
   "display_name": "STIFMaps",
   "language": "python",
   "name": "python3"
  },
  "language_info": {
   "codemirror_mode": {
    "name": "ipython",
    "version": 3
   },
   "file_extension": ".py",
   "mimetype": "text/x-python",
   "name": "python",
   "nbconvert_exporter": "python",
   "pygments_lexer": "ipython3",
   "version": "3.10.16"
  }
 },
 "nbformat": 4,
 "nbformat_minor": 5
}
