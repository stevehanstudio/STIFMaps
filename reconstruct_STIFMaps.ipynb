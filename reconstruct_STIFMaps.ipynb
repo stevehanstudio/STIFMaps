{
 "cells": [
  {
   "cell_type": "code",
   "execution_count": 3,
   "id": "6ef87830-b077-499f-a252-7b8b24b5b856",
   "metadata": {},
   "outputs": [],
   "source": [
    "import os\n",
    "import re\n",
    "import numpy as np\n",
    "import pandas as pd\n",
    "from skimage import io\n",
    "import matplotlib.pyplot as plt\n",
    "\n",
    "from scipy.stats import spearmanr\n",
    "from scipy import interpolate"
   ]
  },
  {
   "cell_type": "code",
   "execution_count": 4,
   "id": "72df8041-ab33-46e2-b110-f4304e288845",
   "metadata": {},
   "outputs": [],
   "source": [
    "import time\n",
    "\n",
    "project_dir = '/home/steve/Projects/WeaverLab/STIFMaps'\n",
    "IPMN_directory = os.path.join(project_dir, \"IPMN_images\")\n",
    "STIFMaps_directory = os.path.join(project_dir, \"STIFMap_images\")\n",
    "os.makedirs(STIFMaps_directory, exist_ok=True)\n",
    "\n",
    "# Define the base name and the number of rows and columns\n",
    "base_name = \"27620\"\n",
    "base_name_C0 = \"27620_C0_full_tile\"\n",
    "base_name_C1 = \"27620_C1_full_tile\"\n",
    "num_rows = 6  # Example: Number of rows in the grid of tiles\n",
    "num_cols = 7  # Example: Number of columns in the grid of tiles\n",
    "\n",
    "# Create a list of file names for C0 tiles\n",
    "C0_files = [f\"{base_name_C0}_{i}_{j}.tif\" for i in range(num_rows) for j in range(num_cols)]\n",
    "\n",
    "# Create a list of file names for C1 tiles\n",
    "C1_files = [f\"{base_name_C1}_{i}_{j}.tif\" for i in range(num_rows) for j in range(num_cols)]"
   ]
  },
  {
   "cell_type": "code",
   "execution_count": 8,
   "id": "73860e5c-7050-4359-99d8-23ca985b4ae0",
   "metadata": {},
   "outputs": [],
   "source": [
    "# Returns the path to the STIFMap image to be saved based on the file name of tiled image \n",
    "def gen_output_path(filename):\n",
    "    # Define the regular expression pattern\n",
    "    pattern = r\"_tile_(\\d+)_(\\d+)\\.tif$\"\n",
    "    # Search for the pattern in the filename\n",
    "    match = re.search(pattern, filename)\n",
    "    # Check if a match is found\n",
    "    if match:\n",
    "      # Extract the row and column indices from the match groups\n",
    "      row = int(match.group(1))\n",
    "      col = int(match.group(2))\n",
    "    \n",
    "      # Print the row and column indices\n",
    "      print(\"Row:\", row)\n",
    "      print(\"Column:\", col)\n",
    "    else:\n",
    "      print(\"No match found.\")\n",
    "    \n",
    "    output_file = f\"{base_name}_STIFMap_{row}_{col}.tif\"\n",
    "    return os.path.join(STIFMaps_directory, output_file) "
   ]
  },
  {
   "cell_type": "code",
   "execution_count": 9,
   "id": "1ecb8652-04f2-439d-b1fc-d948d567148b",
   "metadata": {},
   "outputs": [
    {
     "name": "stdout",
     "output_type": "stream",
     "text": [
      "Row: 0\n",
      "Column: 0\n"
     ]
    },
    {
     "data": {
      "text/plain": [
       "'/home/steve/Projects/WeaverLab/STIFMaps/STIFMap_images/27620_STIFMap_0_0.tif'"
      ]
     },
     "execution_count": 9,
     "metadata": {},
     "output_type": "execute_result"
    }
   ],
   "source": [
    "gen_output_path('/home/steve/Projects/WeaverLab/STIFMaps/IPMN_images/tiled/27620_C0_full_tile_0_0.tif')"
   ]
  },
  {
   "cell_type": "code",
   "execution_count": null,
   "id": "7620d08e-2762-4d04-8e5e-bc6ead84e41f",
   "metadata": {},
   "outputs": [],
   "source": []
  }
 ],
 "metadata": {
  "kernelspec": {
   "display_name": "Python 3 (ipykernel)",
   "language": "python",
   "name": "python3"
  },
  "language_info": {
   "codemirror_mode": {
    "name": "ipython",
    "version": 3
   },
   "file_extension": ".py",
   "mimetype": "text/x-python",
   "name": "python",
   "nbconvert_exporter": "python",
   "pygments_lexer": "ipython3",
   "version": "3.10.16"
  }
 },
 "nbformat": 4,
 "nbformat_minor": 5
}
